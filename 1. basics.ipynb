{
 "cells": [
  {
   "attachments": {},
   "cell_type": "markdown",
   "metadata": {},
   "source": [
    "# High level Basics\n",
    "\n",
    "q: whats algo trading?\n",
    "=> its using algs to trade\n",
    "\n",
    "q: what makes an alg good?\n",
    "=> accuracy, speed (on top of my head)\n",
    "\n",
    "### High level categories in Algs here\n",
    "1. Execution Algorithms:\n",
    "These algorithms focus on executing trades in a smart and cost-effective way.\n",
    "\n",
    "2. Trend-following Algorithms:\n",
    "These algorithms try to find and take advantage of price trends in the market.\n",
    "\n",
    "3. Mean Reversion Algorithms:\n",
    "These algorithms look for situations where prices have moved too much and are likely to go back to their average values.\n",
    "\n",
    "4. Market-making Algorithms:\n",
    "These algorithms help keep the market running smoothly by providing both buying and selling options for traders.\n",
    "\n",
    "5. Arbitrage Algorithms:\n",
    "These algorithms look for price differences between different markets and try to profit from them.\n",
    "\n",
    "6. Statistical Forecasting Algorithms:\n",
    "These algorithms use historical data to make predictions about future price movements.\n",
    "\n",
    "### Process of algo trading\n",
    "#### 1. collect data\n",
    "q: what data?\n",
    "q: what are the inputs, features, outputs?\n",
    "#### 2. develop a hypothesis for a strategy \n",
    "#### 3. backtest the strategy\n",
    "backtesting means testing the trading strategy way back in time to see if it works as expected\n",
    "#### 4. implement on current dataset"
   ]
  },
  {
   "attachments": {},
   "cell_type": "markdown",
   "metadata": {},
   "source": [
    "# API Basics\n",
    "API = Application Programming Interface <br>\n",
    "in simple terms, it's a way in which my software can interact or change someone else's software "
   ]
  },
  {
   "attachments": {},
   "cell_type": "markdown",
   "metadata": {},
   "source": [
    "# For intro to each project, rewatch this section:\n",
    "\n",
    "https://youtu.be/xfzGZB4HhEE?t=791"
   ]
  }
 ],
 "metadata": {
  "kernelspec": {
   "display_name": "Python 3",
   "language": "python",
   "name": "python3"
  },
  "language_info": {
   "name": "python",
   "version": "3.11.3"
  },
  "orig_nbformat": 4
 },
 "nbformat": 4,
 "nbformat_minor": 2
}
